{
 "cells": [
  {
   "cell_type": "code",
   "execution_count": 2,
   "id": "48f3fe67",
   "metadata": {},
   "outputs": [
    {
     "name": "stdout",
     "output_type": "stream",
     "text": [
      "your weight in pounds is 220 and in kilos its 99.0\n",
      "your height in meters is 170 and in feets its 5.5760000000000005\n"
     ]
    }
   ],
   "source": [
    "weight = int(input(\"enter your weight: \"))\n",
    "weight_unit = str(input(\"Enter the unit of weight: press 'L' for pounds and 'K' for kilos\"))\n",
    "\n",
    "Nor_weight_unit = weight_unit.upper()\n",
    "\n",
    "height = int(input(\"enter your height: \"))\n",
    "height_unit = str(input(\"Enter the unit of height: press 'M' for meters and 'F' for feets\"))\n",
    "\n",
    "Nor_height_unit = height_unit.upper()\n",
    "\n",
    "if weight > 0:\n",
    "    if Nor_weight_unit == \"L\":\n",
    "        covert_kilos = weight * 0.45 \n",
    "        print(f\"your weight in pounds is {weight} and in kilos its {covert_kilos}\")\n",
    "    elif Nor_weight_unit == \"K\":\n",
    "        convert_pounds = weight * 2.2\n",
    "        print(f\"your weight in kilos is {weight} and in pounds its {convert_pounds}\")\n",
    "    else:\n",
    "        print(\"Error\")\n",
    "else:\n",
    "    print(\"The weight entered is wrong.\")\n",
    "\n",
    "if height > 0:\n",
    "    if Nor_height_unit == \"F\":\n",
    "        covert_feets = height * 30.4\n",
    "        print(f\"your height in feets is {height} and in meters its {covert_feets}\")\n",
    "    elif Nor_height_unit == \"M\":\n",
    "        convert_meters = height * 0.0328\n",
    "        print(f\"your height in meters is {height} and in feets its {convert_meters}\")\n",
    "    else:\n",
    "        print(\"Error\")\n",
    "else:\n",
    "    print(\"The height entered is wrong.\")\n"
   ]
  },
  {
   "cell_type": "markdown",
   "id": "fcf6de4f",
   "metadata": {},
   "source": []
  }
 ],
 "metadata": {
  "kernelspec": {
   "display_name": "base",
   "language": "python",
   "name": "python3"
  },
  "language_info": {
   "codemirror_mode": {
    "name": "ipython",
    "version": 3
   },
   "file_extension": ".py",
   "mimetype": "text/x-python",
   "name": "python",
   "nbconvert_exporter": "python",
   "pygments_lexer": "ipython3",
   "version": "3.12.4"
  }
 },
 "nbformat": 4,
 "nbformat_minor": 5
}
